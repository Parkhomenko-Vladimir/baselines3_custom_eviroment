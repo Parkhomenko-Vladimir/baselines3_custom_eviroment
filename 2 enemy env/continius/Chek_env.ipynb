{
 "cells": [
  {
   "cell_type": "code",
   "execution_count": null,
   "metadata": {},
   "outputs": [],
   "source": [
    "from Enviroment import Enviroment\n",
    "import pygame\n",
    "import time\n",
    "import random\n",
    "import matplotlib.pyplot as plt\n",
    "\n",
    "obstacle_turn = True\n",
    "vizualaze = True\n",
    "Total_war = True\n",
    "done = False\n",
    "head_velocity = 0.07    # скорость повората башни в радианах\n",
    "num_obs = 3     # количество препятствий\n",
    "size_obs = [10, 20] # размер препятствий\n",
    "m_step = 10 # максимальное количество шагов\n",
    "\n",
    "Vizual = False\n",
    "\n",
    "# env = Enviroment(obstacle_turn, vizualaze, Total_war, head_velocity, num_obs, size_obs, m_step)\n",
    "# state = env.reset()"
   ]
  },
  {
   "cell_type": "code",
   "execution_count": null,
   "metadata": {},
   "outputs": [],
   "source": [
    "env = Enviroment(obstacle_turn, vizualaze, Total_war, head_velocity, num_obs, size_obs, m_step)\n",
    "state = env.reset()"
   ]
  },
  {
   "cell_type": "code",
   "execution_count": null,
   "metadata": {},
   "outputs": [],
   "source": [
    "done = False\n",
    "i=0\n",
    "while not done:\n",
    "    state, reward, done, numstep = env.step([5,5])\n",
    "#     state, reward, done, numstep = env.step(4)\n",
    "    i+=1\n",
    "print(i,numstep)"
   ]
  },
  {
   "cell_type": "code",
   "execution_count": null,
   "metadata": {},
   "outputs": [],
   "source": [
    "env.step([1,2])"
   ]
  },
  {
   "cell_type": "code",
   "execution_count": null,
   "metadata": {},
   "outputs": [],
   "source": []
  }
 ],
 "metadata": {
  "kernelspec": {
   "display_name": "Python 3",
   "language": "python",
   "name": "python3"
  },
  "language_info": {
   "codemirror_mode": {
    "name": "ipython",
    "version": 3
   },
   "file_extension": ".py",
   "mimetype": "text/x-python",
   "name": "python",
   "nbconvert_exporter": "python",
   "pygments_lexer": "ipython3",
   "version": "3.8.3"
  }
 },
 "nbformat": 4,
 "nbformat_minor": 4
}
