{
 "cells": [
  {
   "cell_type": "code",
   "execution_count": 2,
   "metadata": {},
   "outputs": [],
   "source": [
    "from Enviroment import Enviroment\n",
    "import pygame\n",
    "import time\n",
    "# import random\n",
    "import matplotlib.pyplot as plt\n",
    "\n",
    "obstacle_turn = False\n",
    "vizualaze = True\n",
    "Total_war = True"
   ]
  },
  {
   "cell_type": "code",
   "execution_count": 170,
   "metadata": {},
   "outputs": [],
   "source": [
    "# for i in range(100):\n",
    "env = Enviroment(obstacle_turn, vizualaze, Total_war)\n",
    "state = env.reset()"
   ]
  },
  {
   "cell_type": "code",
   "execution_count": 87,
   "metadata": {},
   "outputs": [],
   "source": [
    "import gym\n",
    "from gym import spaces\n",
    "from Enviroment import Enviroment\n",
    "import numpy as np\n",
    "\n",
    "class CustomEnv(gym.Env):\n",
    "    \"\"\"Custom Environment that follows gym interface\"\"\"\n",
    "    metadata = {'render.modes': ['human']}\n",
    "\n",
    "    def __init__(self, obstacle_turn = False, vizualaze = False, Total_war = True, steps_limit = 1000):\n",
    "        super(CustomEnv, self).__init__()\n",
    "\n",
    "\n",
    "        self.steps_limit = steps_limit\n",
    "        \n",
    "        self.env1 = Enviroment(obstacle_turn, vizualaze, Total_war)\n",
    "        state = self.env1.reset()\n",
    "\n",
    "        self.action_space = spaces.Discrete(8)\n",
    "        \n",
    "        self.observation_space = gym.spaces.Dict({\n",
    "                    'img': spaces.Box(low=0, high=255, shape=(500, 500, 3), dtype=np.uint8),\n",
    "                    'posRobot': spaces.Box(low=np.array([0, 0,-3.14]), high=np.array([500, 500, 3.14])),\n",
    "                    'target': spaces.Box(low=0, high=500, shape=((2,)))\n",
    "                    })\n",
    "\n",
    "        \n",
    "    def step(self, action):\n",
    "\n",
    "        state, reward, done, numstep = self.env1.step(action)\n",
    "#         observation , reward, done = state ,reward , done\n",
    "        \n",
    "        dict_state = {'img':     state.img,\n",
    "                      'posRobot':state.posRobot,\n",
    "                      'target':  state.target}\n",
    "        \n",
    "        if numstep >= self.steps_limit:\n",
    "            done = False\n",
    "    \n",
    "        return dict_state, reward, not done, {}\n",
    "\n",
    "\n",
    "    def reset(self):\n",
    "\n",
    "        state = self.env1.reset()\n",
    "        \n",
    "        dict_state = {'img':     state.img,  # np.array\n",
    "                      'posRobot':state.posRobot,  # list\n",
    "                      'target':  state.target}  # list\n",
    "        \n",
    "        return dict_state  \n",
    "\n",
    "    def render(self, mode='human'):\n",
    "        pass\n"
   ]
  },
  {
   "cell_type": "code",
   "execution_count": 376,
   "metadata": {},
   "outputs": [
    {
     "data": {
      "text/plain": [
       "(200, 352, 102.99999999999974)"
      ]
     },
     "execution_count": 376,
     "metadata": {},
     "output_type": "execute_result"
    }
   ],
   "source": [
    "state, reward, done, numstep = env.step(0)\n",
    "state.target"
   ]
  },
  {
   "cell_type": "code",
   "execution_count": 51,
   "metadata": {},
   "outputs": [
    {
     "data": {
      "text/plain": [
       "(211, 209, 52.400000000000134)"
      ]
     },
     "execution_count": 51,
     "metadata": {},
     "output_type": "execute_result"
    }
   ],
   "source": [
    "state.target"
   ]
  },
  {
   "cell_type": "code",
   "execution_count": null,
   "metadata": {},
   "outputs": [],
   "source": []
  }
 ],
 "metadata": {
  "kernelspec": {
   "display_name": "Python 3",
   "language": "python",
   "name": "python3"
  },
  "language_info": {
   "codemirror_mode": {
    "name": "ipython",
    "version": 3
   },
   "file_extension": ".py",
   "mimetype": "text/x-python",
   "name": "python",
   "nbconvert_exporter": "python",
   "pygments_lexer": "ipython3",
   "version": "3.8.3"
  }
 },
 "nbformat": 4,
 "nbformat_minor": 4
}
