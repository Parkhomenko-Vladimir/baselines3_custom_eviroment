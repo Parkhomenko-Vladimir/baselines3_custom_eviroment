{
 "cells": [
  {
   "cell_type": "code",
   "execution_count": null,
   "metadata": {},
   "outputs": [],
   "source": [
    "from Enviroment import Enviroment\n",
    "import pygame\n",
    "import time\n",
    "import random\n",
    "import numpy as np\n",
    "\n",
    "import matplotlib.pyplot as plt\n",
    "\n",
    "import gym\n",
    "from gym import spaces"
   ]
  },
  {
   "cell_type": "code",
   "execution_count": null,
   "metadata": {},
   "outputs": [],
   "source": [
    "obstacle_turn = False\n",
    "vizualaze = True\n",
    "Total_war = True"
   ]
  },
  {
   "cell_type": "markdown",
   "metadata": {},
   "source": [
    "# Оборачиваем среду в gym"
   ]
  },
  {
   "cell_type": "code",
   "execution_count": null,
   "metadata": {},
   "outputs": [],
   "source": [
    "class CustomEnv(gym.Env):\n",
    "    \"\"\"Custom Environment that follows gym interface\"\"\"\n",
    "    metadata = {'render.modes': ['human']}\n",
    "\n",
    "    def __init__(self,obstacle_turn = False,vizualaze = True,Total_war = True,\n",
    "                 head_velocity = 0.01, num_obs = 0, num_enemy = 1, size_obs = [0, 0], m_step = 2000):\n",
    "        super(CustomEnv, self).__init__()\n",
    "\n",
    "#         obstacle_turn = False\n",
    "#         vizualaze = True\n",
    "#         Total_war = True\n",
    "        self.velocity = 70\n",
    "        self.log_koef = 50\n",
    "        self.enviroment = Enviroment(obstacle_turn, vizualaze, Total_war, head_velocity, num_obs, num_enemy, size_obs, m_step)\n",
    "\n",
    "        state = self.enviroment.reset()\n",
    "\n",
    "        self.action_space = spaces.Box(low=np.array([-0.1, -3.14]), high=np.array([1, 3.14]), dtype=np.float16)\n",
    "        self.observation_space = gym.spaces.Dict({\n",
    "                    'img': spaces.Box(low=0, high=255, shape=(500, 500, 3), dtype=np.uint8),\n",
    "                    'posRobot': spaces.Box(low=np.array([0, 0, -3.14]), high=np.array([500, 500, 3.14])),\n",
    "                    'target': spaces.Box(low  = np.array([[0, 0, -3.14] for i in range(num_enemy)]).reshape(-1), \n",
    "                                         high = np.array([[500, 500, 3.14] for i in range(num_enemy)]).reshape(-1)\n",
    "                                        )\n",
    "                                                })\n",
    "\n",
    "\n",
    "    def step(self, action):\n",
    "        action[0] *= self.velocity\n",
    "        state, reward, done, numstep = self.enviroment.step(action)\n",
    "        dict_state = {'img':     state.img,\n",
    "                      'posRobot':state.posRobot,\n",
    "                      'target':  state.target} \n",
    "        for i in range(len(state.target)):\n",
    "        \n",
    "            dist = np.sqrt((dict_state['target'][i][0]-dict_state['posRobot'][0])**2 + (dict_state['target'][i][1]-dict_state['posRobot'][1])**2)\n",
    "\n",
    "            Ax = np.cos(dict_state['target'][i][2])\n",
    "            Ay = -np.sin(dict_state['target'][i][2])\n",
    "            Bx = dict_state['posRobot'][0] - dict_state['target'][i][0]\n",
    "            By = dict_state['posRobot'][1] - dict_state['target'][i][1] \n",
    "\n",
    "\n",
    "            phy = np.arccos((Ax*Bx + Ay*By)/(np.sqrt(Ax**2 + Ay**2) * np.sqrt(Bx**2 + By**2)))\n",
    "\n",
    "            reward = reward + np.log2(phy/dist*self.log_koef)\n",
    "            \n",
    "\n",
    "        dict_state = {'img':     state.img,\n",
    "                      'posRobot':state.posRobot,\n",
    "                      'target':  state.target.reshape(-1)} \n",
    "        return dict_state, reward, done, {}\n",
    "\n",
    "\n",
    "    def reset(self):\n",
    "\n",
    "        state = self.enviroment.reset()\n",
    "        dict_state = {'img':     state.img,\n",
    "                      'posRobot':state.posRobot,\n",
    "                      'target':  state.target.reshape(-1)}\n",
    "        return dict_state  # reward, done, info can't be included\n",
    "\n",
    "    def render(self, mode='human'):\n",
    "        pass"
   ]
  },
  {
   "cell_type": "code",
   "execution_count": null,
   "metadata": {},
   "outputs": [],
   "source": [
    "# for i in range(100):\n",
    "env = CustomEnv(obstacle_turn = True, num_obs = 10, num_enemy = 3,size_obs = [10, 10])"
   ]
  },
  {
   "cell_type": "code",
   "execution_count": null,
   "metadata": {
    "tags": []
   },
   "outputs": [],
   "source": [
    "last_action = [50, -np.pi/2]\n",
    "while not done:\n",
    "    state, reward, done, numstep = env.step(last_action)\n",
    "#     print(reward)#, done, state['target'])\n",
    "    action = input('theta')\n",
    "    if action:\n",
    "        last_action[1] = float(action)\n",
    "        action = input('velocity')\n",
    "        if action:\n",
    "            last_action[0] = float(action)"
   ]
  },
  {
   "cell_type": "code",
   "execution_count": null,
   "metadata": {},
   "outputs": [],
   "source": []
  }
 ],
 "metadata": {
  "kernelspec": {
   "display_name": "Python 3",
   "language": "python",
   "name": "python3"
  },
  "language_info": {
   "codemirror_mode": {
    "name": "ipython",
    "version": 3
   },
   "file_extension": ".py",
   "mimetype": "text/x-python",
   "name": "python",
   "nbconvert_exporter": "python",
   "pygments_lexer": "ipython3",
   "version": "3.8.3"
  }
 },
 "nbformat": 4,
 "nbformat_minor": 4
}
