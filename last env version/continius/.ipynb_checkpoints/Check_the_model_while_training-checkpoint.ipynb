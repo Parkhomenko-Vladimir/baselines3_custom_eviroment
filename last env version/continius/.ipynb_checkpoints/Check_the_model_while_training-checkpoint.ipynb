{
 "cells": [
  {
   "cell_type": "code",
   "execution_count": 1,
   "id": "6bbdcd9b-c70b-4a7a-b5a9-2aa31b559be2",
   "metadata": {},
   "outputs": [
    {
     "name": "stdout",
     "output_type": "stream",
     "text": [
      "pygame 2.0.1 (SDL 2.0.14, Python 3.8.10)\n",
      "Hello from the pygame community. https://www.pygame.org/contribute.html\n"
     ]
    }
   ],
   "source": [
    "import os\n",
    "import gym\n",
    "import numpy as np\n",
    "import matplotlib.pyplot as plt\n",
    "\n",
    "from stable_baselines3.common import results_plotter\n",
    "from stable_baselines3.common.monitor import Monitor\n",
    "from stable_baselines3.common.results_plotter import load_results, ts2xy, plot_results\n",
    "from stable_baselines3.common.noise import NormalActionNoise\n",
    "from stable_baselines3.common.callbacks import BaseCallback\n",
    "\n",
    "from gym_environment import CustomEnv\n",
    "from network import CustomCNN\n",
    "\n",
    "from stable_baselines3.common.torch_layers import BaseFeaturesExtractor\n",
    "import torch.nn as nn\n",
    "import torch.nn.functional as F\n",
    "import torch\n",
    "from stable_baselines3 import PPO\n",
    "\n",
    "torch.backends.cudnn.benchmark = True"
   ]
  },
  {
   "cell_type": "code",
   "execution_count": 2,
   "id": "91f9e849-236c-4712-a979-9ebb49a693ff",
   "metadata": {},
   "outputs": [
    {
     "name": "stderr",
     "output_type": "stream",
     "text": [
      "/home/tatiana/environments/tatenv/lib/python3.8/site-packages/gym/logger.py:30: UserWarning: \u001b[33mWARN: Box bound precision lowered by casting to float16\u001b[0m\n",
      "  warnings.warn(colorize('%s: %s'%('WARN', msg % args), 'yellow'))\n",
      "/home/tatiana/environments/tatenv/lib/python3.8/site-packages/gym/logger.py:30: UserWarning: \u001b[33mWARN: Box bound precision lowered by casting to float32\u001b[0m\n",
      "  warnings.warn(colorize('%s: %s'%('WARN', msg % args), 'yellow'))\n"
     ]
    }
   ],
   "source": [
    "log_dir = './saved_models_cont_mult/PPO/'\n",
    "env = CustomEnv(obstacle_turn=False, Total_war=True)  # , vizualaze=True"
   ]
  },
  {
   "cell_type": "code",
   "execution_count": 3,
   "id": "2396f623-f055-40d5-bdb5-1e0fe7061494",
   "metadata": {},
   "outputs": [],
   "source": [
    "model = PPO.load(path=log_dir + 'best_model_PPO1', env=env)"
   ]
  },
  {
   "cell_type": "code",
   "execution_count": null,
   "id": "a3b87837-44fc-4d1c-83be-6afce5cf0d50",
   "metadata": {},
   "outputs": [],
   "source": []
  },
  {
   "cell_type": "code",
   "execution_count": 7,
   "id": "35733ae2-2f7b-4df2-a8e0-ee1068090cc4",
   "metadata": {},
   "outputs": [
    {
     "name": "stdout",
     "output_type": "stream",
     "text": [
      "-1.1920929e-07\n"
     ]
    }
   ],
   "source": [
    "state = env.reset()\n",
    "action = model.predict(state)\n",
    "print(action[0][0])"
   ]
  },
  {
   "cell_type": "code",
   "execution_count": null,
   "id": "0326fd54-d93a-481f-b42f-b84d0e4d06f7",
   "metadata": {},
   "outputs": [],
   "source": [
    "from torchviz import make_dot\n",
    "vis_graph = make_dot(model(state), params=dict(model.named_parameters()))\n",
    "vise_graph.view()"
   ]
  },
  {
   "cell_type": "code",
   "execution_count": 9,
   "id": "ffc657aa-e178-40eb-9ba9-263ab4d47d5d",
   "metadata": {},
   "outputs": [
    {
     "name": "stdout",
     "output_type": "stream",
     "text": [
      "(array([-1.1920929e-07, -3.1406250e+00], dtype=float32), None)\n"
     ]
    }
   ],
   "source": [
    "print(action)"
   ]
  },
  {
   "cell_type": "code",
   "execution_count": 12,
   "id": "277d9acd-ec30-4425-a781-a00fafb344b6",
   "metadata": {},
   "outputs": [
    {
     "name": "stdout",
     "output_type": "stream",
     "text": [
      "(array([-1.1920929e-07, -3.1406250e+00], dtype=float32), None)\n"
     ]
    }
   ],
   "source": [
    "print(action)"
   ]
  },
  {
   "cell_type": "code",
   "execution_count": 14,
   "id": "6cb334f1-f8c1-40d4-a222-695180172559",
   "metadata": {},
   "outputs": [
    {
     "name": "stdout",
     "output_type": "stream",
     "text": [
      "(array([-5.841255e-04, -3.140625e+00], dtype=float32), None)\n"
     ]
    }
   ],
   "source": [
    "action[0][0] = action[0][0]*70\n",
    "print(action)"
   ]
  },
  {
   "cell_type": "code",
   "execution_count": 5,
   "id": "d729e50b-e2b3-4a08-8a25-c0f2ec6d2b13",
   "metadata": {},
   "outputs": [
    {
     "name": "stdout",
     "output_type": "stream",
     "text": [
      "-1.1920929e-07 -1.1920929e-07\n"
     ]
    }
   ],
   "source": [
    "velosities = []\n",
    "state = env.reset()\n",
    "action = model.predict(state)\n",
    "for i in range(0, 100):\n",
    "    state, reward, done, numstep = env.step(action[0])\n",
    "    action = model.predict(state)\n",
    "    velosities.append(action[0][0])\n",
    "print(max(velosities), min(velosities))"
   ]
  },
  {
   "cell_type": "code",
   "execution_count": null,
   "id": "6d82c525-75d2-4d4f-a165-cdfe6bdb75a3",
   "metadata": {},
   "outputs": [],
   "source": []
  },
  {
   "cell_type": "code",
   "execution_count": null,
   "id": "96d1b00e-6111-4d8e-bf3c-f9b32044447d",
   "metadata": {},
   "outputs": [],
   "source": []
  }
 ],
 "metadata": {
  "kernelspec": {
   "display_name": "Python 3 (ipykernel)",
   "language": "python",
   "name": "python3"
  },
  "language_info": {
   "codemirror_mode": {
    "name": "ipython",
    "version": 3
   },
   "file_extension": ".py",
   "mimetype": "text/x-python",
   "name": "python",
   "nbconvert_exporter": "python",
   "pygments_lexer": "ipython3",
   "version": "3.8.10"
  }
 },
 "nbformat": 4,
 "nbformat_minor": 5
}
