{
 "cells": [
  {
   "cell_type": "code",
   "execution_count": null,
   "metadata": {},
   "outputs": [],
   "source": [
    "# from Enviroment import Enviroment\n",
    "# import pygame\n",
    "# import time\n",
    "# import random\n",
    "# import matplotlib.pyplot as plt\n",
    "# import numpy as np\n",
    "\n",
    "# obstacle_turn = False\n",
    "# vizualaze = True\n",
    "# Total_war = True\n",
    "# done = True\n",
    "\n",
    "\n",
    "# Vizual = False\n",
    "\n",
    "# env = Enviroment(obstacle_turn, vizualaze, Total_war)\n",
    "# state = env.reset()\n",
    "\n",
    "# totalRew = 0\n",
    "# for i in range(100):\n",
    "#     while done:\n",
    "\n",
    "#         action = (random.randint(10, 50), random.uniform(-0.2, 0.2))\n",
    "#         state, reward, done, numstep = env.step(action)\n",
    "#         totalRew += reward\n",
    "#         print(\"Шаг: {2} Награда: {0}, Состояние: {1}, Положение РТК: {4} Положение цели: {5} Действие: {3}\" \\\n",
    "#               .format(reward, done, numstep, action, state.posRobot, state.target, totalRew))\n",
    "\n",
    "#         if Vizual:\n",
    "#             plt.imshow(state.img)\n",
    "#             plt.pause(0.01)\n",
    "#     done = True\n",
    "#     # env.draw()\n",
    "#     state = env.reset()\n",
    "#     totalRew = 0"
   ]
  },
  {
   "cell_type": "code",
   "execution_count": 1,
   "metadata": {},
   "outputs": [
    {
     "name": "stdout",
     "output_type": "stream",
     "text": [
      "pygame 2.0.1 (SDL 2.0.14, Python 3.8.3)\n",
      "Hello from the pygame community. https://www.pygame.org/contribute.html\n"
     ]
    }
   ],
   "source": [
    "from Enviroment import Enviroment\n",
    "import pygame\n",
    "import time\n",
    "import random\n",
    "import matplotlib.pyplot as plt\n",
    "import numpy as np"
   ]
  },
  {
   "cell_type": "code",
   "execution_count": 3,
   "metadata": {},
   "outputs": [],
   "source": [
    "obstacle_turn = False\n",
    "vizualaze = True\n",
    "Total_war = True\n",
    "done = True"
   ]
  },
  {
   "cell_type": "code",
   "execution_count": 58,
   "metadata": {},
   "outputs": [],
   "source": [
    "# for i in range(100):\n",
    "env = Enviroment(obstacle_turn, vizualaze, Total_war)\n",
    "state = env.reset()"
   ]
  },
  {
   "cell_type": "code",
   "execution_count": 98,
   "metadata": {},
   "outputs": [
    {
     "name": "stdout",
     "output_type": "stream",
     "text": [
      "7.875990792185059 False [267.        355.          0.3979588]\n"
     ]
    }
   ],
   "source": [
    "action = (30, np.pi/111111)\n",
    "state, reward, done, numstep = env.step(action)\n",
    "                                        \n",
    "print(reward, done, state.target)"
   ]
  },
  {
   "cell_type": "code",
   "execution_count": null,
   "metadata": {},
   "outputs": [],
   "source": [
    "state.target"
   ]
  },
  {
   "cell_type": "code",
   "execution_count": null,
   "metadata": {},
   "outputs": [],
   "source": []
  },
  {
   "cell_type": "code",
   "execution_count": null,
   "metadata": {},
   "outputs": [],
   "source": []
  },
  {
   "cell_type": "code",
   "execution_count": null,
   "metadata": {},
   "outputs": [],
   "source": []
  },
  {
   "cell_type": "code",
   "execution_count": null,
   "metadata": {},
   "outputs": [],
   "source": []
  }
 ],
 "metadata": {
  "kernelspec": {
   "display_name": "Python 3",
   "language": "python",
   "name": "python3"
  },
  "language_info": {
   "codemirror_mode": {
    "name": "ipython",
    "version": 3
   },
   "file_extension": ".py",
   "mimetype": "text/x-python",
   "name": "python",
   "nbconvert_exporter": "python",
   "pygments_lexer": "ipython3",
   "version": "3.8.3"
  }
 },
 "nbformat": 4,
 "nbformat_minor": 4
}
