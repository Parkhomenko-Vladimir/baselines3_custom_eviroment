{
 "cells": [
  {
   "cell_type": "code",
   "execution_count": 4,
   "id": "53cbafcc-a2be-4e6c-b146-6545a9164c24",
   "metadata": {},
   "outputs": [],
   "source": [
    "import os\n",
    "import gym\n",
    "import numpy as np\n",
    "import matplotlib.pyplot as plt\n",
    "\n",
    "from stable_baselines3.common import results_plotter\n",
    "from stable_baselines3.common.monitor import Monitor\n",
    "from stable_baselines3.common.results_plotter import load_results, ts2xy, plot_results\n",
    "from stable_baselines3.common.noise import NormalActionNoise\n",
    "from stable_baselines3.common.callbacks import BaseCallback\n",
    "\n",
    "from gym_environment import CustomEnv\n",
    "from network import CustomCNN\n",
    "\n",
    "from stable_baselines3.common.torch_layers import BaseFeaturesExtractor\n",
    "import torch.nn as nn\n",
    "import torch.nn.functional as F\n",
    "import torch\n",
    "from stable_baselines3 import A2C\n",
    "import cv2\n",
    "from stable_baselines3 import PPO\n",
    "import time\n",
    "\n",
    "torch.backends.cudnn.benchmark = True"
   ]
  },
  {
   "cell_type": "code",
   "execution_count": 2,
   "id": "01d104f1-93d0-49d6-85cc-7e85d2f40553",
   "metadata": {},
   "outputs": [
    {
     "ename": "TypeError",
     "evalue": "__init__() got an unexpected keyword argument 'vizualaze'",
     "output_type": "error",
     "traceback": [
      "\u001b[0;31m---------------------------------------------------------------------------\u001b[0m",
      "\u001b[0;31mTypeError\u001b[0m                                 Traceback (most recent call last)",
      "\u001b[0;32m/tmp/ipykernel_1866033/822162232.py\u001b[0m in \u001b[0;36m<module>\u001b[0;34m\u001b[0m\n\u001b[1;32m      1\u001b[0m \u001b[0mlog_dir\u001b[0m \u001b[0;34m=\u001b[0m \u001b[0;34m'./saved_models_cont_mult/PPO/'\u001b[0m\u001b[0;34m\u001b[0m\u001b[0;34m\u001b[0m\u001b[0m\n\u001b[0;32m----> 2\u001b[0;31m \u001b[0menv\u001b[0m \u001b[0;34m=\u001b[0m \u001b[0mCustomEnv\u001b[0m\u001b[0;34m(\u001b[0m\u001b[0mobstacle_turn\u001b[0m\u001b[0;34m=\u001b[0m\u001b[0;32mTrue\u001b[0m\u001b[0;34m,\u001b[0m \u001b[0mTotal_war\u001b[0m\u001b[0;34m=\u001b[0m\u001b[0;32mTrue\u001b[0m\u001b[0;34m,\u001b[0m\u001b[0mvizualaze\u001b[0m\u001b[0;34m=\u001b[0m\u001b[0;32mTrue\u001b[0m\u001b[0;34m)\u001b[0m\u001b[0;34m\u001b[0m\u001b[0;34m\u001b[0m\u001b[0m\n\u001b[0m",
      "\u001b[0;31mTypeError\u001b[0m: __init__() got an unexpected keyword argument 'vizualaze'"
     ]
    }
   ],
   "source": [
    "log_dir = './saved_models_cont_mult/PPO/'\n",
    "env = CustomEnv(obstacle_turn=True, Total_war=True,vizualaze=True)"
   ]
  },
  {
   "cell_type": "code",
   "execution_count": 3,
   "id": "8083b6df-5b34-46e5-8b15-a5ed88f1c860",
   "metadata": {},
   "outputs": [
    {
     "ename": "NameError",
     "evalue": "name 'env' is not defined",
     "output_type": "error",
     "traceback": [
      "\u001b[0;31m---------------------------------------------------------------------------\u001b[0m",
      "\u001b[0;31mNameError\u001b[0m                                 Traceback (most recent call last)",
      "\u001b[0;32m/tmp/ipykernel_1866033/3836817560.py\u001b[0m in \u001b[0;36m<module>\u001b[0;34m\u001b[0m\n\u001b[0;32m----> 1\u001b[0;31m \u001b[0mstate\u001b[0m \u001b[0;34m=\u001b[0m \u001b[0menv\u001b[0m\u001b[0;34m.\u001b[0m\u001b[0mreset\u001b[0m\u001b[0;34m(\u001b[0m\u001b[0;34m)\u001b[0m\u001b[0;34m\u001b[0m\u001b[0;34m\u001b[0m\u001b[0m\n\u001b[0m\u001b[1;32m      2\u001b[0m \u001b[0maction\u001b[0m \u001b[0;34m=\u001b[0m \u001b[0mmodel\u001b[0m\u001b[0;34m.\u001b[0m\u001b[0mpredict\u001b[0m\u001b[0;34m(\u001b[0m\u001b[0mstate\u001b[0m\u001b[0;34m)\u001b[0m\u001b[0;34m\u001b[0m\u001b[0;34m\u001b[0m\u001b[0m\n\u001b[1;32m      3\u001b[0m \u001b[0mprint\u001b[0m\u001b[0;34m(\u001b[0m\u001b[0maction\u001b[0m\u001b[0;34m[\u001b[0m\u001b[0;36m0\u001b[0m\u001b[0;34m]\u001b[0m\u001b[0;34m[\u001b[0m\u001b[0;36m0\u001b[0m\u001b[0;34m]\u001b[0m\u001b[0;34m)\u001b[0m\u001b[0;34m\u001b[0m\u001b[0;34m\u001b[0m\u001b[0m\n",
      "\u001b[0;31mNameError\u001b[0m: name 'env' is not defined"
     ]
    }
   ],
   "source": [
    "state = env.reset()\n",
    "action = model.predict(state)\n",
    "print(action[0][0])"
   ]
  },
  {
   "cell_type": "code",
   "execution_count": null,
   "id": "034b75fc-e071-4198-81b8-6deccf8c6d5a",
   "metadata": {},
   "outputs": [],
   "source": [
    "model = PPO.load(path=log_dir + 'best_model_PPOobs_and_2enemy', env=env)"
   ]
  },
  {
   "cell_type": "code",
   "execution_count": null,
   "id": "d84e57d3-4555-46ba-adc6-3260fe01bac3",
   "metadata": {},
   "outputs": [],
   "source": [
    "steps = []\n",
    "state = env.reset()\n",
    "steps.append(state['img'])"
   ]
  },
  {
   "cell_type": "code",
   "execution_count": null,
   "id": "594841eb-efc9-416f-b550-0e34978b354b",
   "metadata": {},
   "outputs": [],
   "source": [
    "action = model.predict(state)"
   ]
  },
  {
   "cell_type": "code",
   "execution_count": null,
   "id": "f5235748-7bac-4973-9894-c0aa826d074a",
   "metadata": {},
   "outputs": [],
   "source": [
    "for i in range(0, 10000):\n",
    "    time.sleep(0.01)\n",
    "    action = model.predict(state)[0]\n",
    "    state, reward, done, numstep = env.step(action)"
   ]
  }
 ],
 "metadata": {
  "kernelspec": {
   "display_name": "Python 3 (ipykernel)",
   "language": "python",
   "name": "python3"
  },
  "language_info": {
   "codemirror_mode": {
    "name": "ipython",
    "version": 3
   },
   "file_extension": ".py",
   "mimetype": "text/x-python",
   "name": "python",
   "nbconvert_exporter": "python",
   "pygments_lexer": "ipython3",
   "version": "3.8.10"
  }
 },
 "nbformat": 4,
 "nbformat_minor": 5
}
