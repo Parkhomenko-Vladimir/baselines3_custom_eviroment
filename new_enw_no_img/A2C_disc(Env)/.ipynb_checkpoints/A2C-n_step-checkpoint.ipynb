{
 "cells": [
  {
   "cell_type": "code",
   "execution_count": 1,
   "id": "84d3d49e-5464-4726-8c3e-e84c5b357047",
   "metadata": {},
   "outputs": [],
   "source": [
    "import torch as T\n",
    "import numpy as np\n",
    "import gym\n",
    "\n",
    "from IPython.display import clear_output\n",
    "from actor_critic import ActorCritic"
   ]
  },
  {
   "cell_type": "code",
   "execution_count": 2,
   "id": "c5febadd-2d13-49b4-8c19-64cae8f22769",
   "metadata": {},
   "outputs": [],
   "source": [
    "env = gym.make('LunarLander-v2')\n",
    "\n",
    "agent = ActorCritic(lr = 0.005, \n",
    "                    input_dim  = env.observation_space.shape[0],\n",
    "                    n_actions  = env.action_space.n,\n",
    "                    gamma = 0.96)\n"
   ]
  },
  {
   "cell_type": "code",
   "execution_count": 3,
   "id": "c24782d7-8cc5-4fd9-b149-075aafbfa56c",
   "metadata": {},
   "outputs": [],
   "source": [
    "scores = []\n",
    "n_steps = 2000\n",
    "T_MAX = 4"
   ]
  },
  {
   "cell_type": "code",
   "execution_count": null,
   "id": "f8291693-d031-4fa6-9d56-30f6b9a5d85d",
   "metadata": {},
   "outputs": [
    {
     "name": "stdout",
     "output_type": "stream",
     "text": [
      "1640 -23.687111499025974 9.847226160615744\n",
      "1641 5.265907396372896 10.071693585911321\n",
      "1642 -87.54375765027729 9.091847974874112\n",
      "1643 165.56832537294 10.797848241486241\n",
      "1644 -40.106384069497395 10.685150764029384\n",
      "1645 -50.63267132829694 9.966069306604158\n"
     ]
    }
   ],
   "source": [
    "for i in range(n_steps):\n",
    "    observation = env.reset()\n",
    "    \n",
    "    done = False\n",
    "    ep_steps = 0\n",
    "    r = 0\n",
    "\n",
    "    while not done:\n",
    "\n",
    "        action = agent.choose_action(observation)\n",
    "        observation, reward, done, info = env.step(action)\n",
    "        agent.store_mem(reward)\n",
    "        \n",
    "        r += reward\n",
    "        ep_steps+=1\n",
    "        \n",
    "        if ep_steps % T_MAX == 0 or done:\n",
    "            loss = agent.learn(observation, done)\n",
    "    \n",
    "    scores.append(r)\n",
    "    \n",
    "    avg_score = np.mean(scores[-100:])\n",
    "    \n",
    "    if not bool(i%10):clear_output()\n",
    "    print(i,r, avg_score)"
   ]
  },
  {
   "cell_type": "code",
   "execution_count": null,
   "id": "839c641d-f052-43a2-8de8-6fa139dface0",
   "metadata": {},
   "outputs": [],
   "source": []
  },
  {
   "cell_type": "code",
   "execution_count": null,
   "id": "34751e3a-0fd8-4776-9f9b-5e28dcf50eb2",
   "metadata": {},
   "outputs": [],
   "source": []
  },
  {
   "cell_type": "code",
   "execution_count": null,
   "id": "24cbed50-a819-4f19-a94f-3b95d86db009",
   "metadata": {},
   "outputs": [],
   "source": []
  },
  {
   "cell_type": "code",
   "execution_count": null,
   "id": "5471b7a8-2c19-4872-921e-dffeba385c3d",
   "metadata": {},
   "outputs": [],
   "source": []
  },
  {
   "cell_type": "code",
   "execution_count": null,
   "id": "7becbc10-d91e-4fa3-88cd-e11eb49b2f6f",
   "metadata": {},
   "outputs": [],
   "source": []
  },
  {
   "cell_type": "code",
   "execution_count": null,
   "id": "c0b53ab5-8f6c-490b-9a2e-f3b2854f1f0e",
   "metadata": {},
   "outputs": [],
   "source": []
  },
  {
   "cell_type": "code",
   "execution_count": null,
   "id": "aff0d5a9-c910-4b04-b7e2-eecfe1b0a22a",
   "metadata": {},
   "outputs": [],
   "source": []
  },
  {
   "cell_type": "code",
   "execution_count": null,
   "id": "37856cc1-435c-49a4-8c63-f3e6ca9b2bea",
   "metadata": {},
   "outputs": [],
   "source": []
  },
  {
   "cell_type": "code",
   "execution_count": null,
   "id": "fd9fe445-3929-43b2-8ea8-8f9c80a7f0ba",
   "metadata": {},
   "outputs": [],
   "source": []
  },
  {
   "cell_type": "code",
   "execution_count": null,
   "id": "e1f15d6d-30a3-4d78-8a04-7a3c447cd13d",
   "metadata": {},
   "outputs": [],
   "source": []
  },
  {
   "cell_type": "code",
   "execution_count": null,
   "id": "aadaa3a8-ce98-41b2-9ba4-0704d1932604",
   "metadata": {},
   "outputs": [],
   "source": []
  },
  {
   "cell_type": "code",
   "execution_count": null,
   "id": "e86b705b-7d29-4399-a935-10b62ea9aff4",
   "metadata": {},
   "outputs": [],
   "source": []
  },
  {
   "cell_type": "code",
   "execution_count": null,
   "id": "687a98f6-662a-47dc-b64f-cff200c2d25a",
   "metadata": {},
   "outputs": [],
   "source": []
  }
 ],
 "metadata": {
  "kernelspec": {
   "display_name": "Python 3 (ipykernel)",
   "language": "python",
   "name": "python3"
  },
  "language_info": {
   "codemirror_mode": {
    "name": "ipython",
    "version": 3
   },
   "file_extension": ".py",
   "mimetype": "text/x-python",
   "name": "python",
   "nbconvert_exporter": "python",
   "pygments_lexer": "ipython3",
   "version": "3.10.4"
  }
 },
 "nbformat": 4,
 "nbformat_minor": 5
}
