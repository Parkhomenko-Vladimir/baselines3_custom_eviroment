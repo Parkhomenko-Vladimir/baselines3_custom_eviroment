{
 "cells": [
  {
   "cell_type": "code",
   "execution_count": null,
   "id": "84d3d49e-5464-4726-8c3e-e84c5b357047",
   "metadata": {},
   "outputs": [],
   "source": [
    "import torch as T\n",
    "import numpy as np\n",
    "import gym\n",
    "\n",
    "from IPython.display import clear_output\n",
    "from Ractor_critic import ActorCritic"
   ]
  },
  {
   "cell_type": "code",
   "execution_count": null,
   "id": "c5febadd-2d13-49b4-8c19-64cae8f22769",
   "metadata": {},
   "outputs": [],
   "source": [
    "from enviroment_class import CustomEnv\n",
    "\n",
    "env = CustomEnv(obstacle_turn = True,\n",
    "                vizualaze     = False,\n",
    "                Total_war     = True,\n",
    "                inp_dim       = 500,\n",
    "                head_velocity = 0.005,#0.005\n",
    "                num_obs       = 5,\n",
    "                num_enemy     = 1,\n",
    "                size_obs      = [50, 60],\n",
    "                rew_col       = -70,\n",
    "                rew_win       = 100,\n",
    "                rew_defeat    = -100,\n",
    "                steps_limit   = 1000,\n",
    "                EnemyLidSet   = [45,90],\n",
    "                AllyLidSet    = [40, 90])\n",
    "_ = env.reset()"
   ]
  },
  {
   "cell_type": "code",
   "execution_count": null,
   "id": "c2f3e48b-dd00-48f8-863f-66dba8ad3038",
   "metadata": {},
   "outputs": [],
   "source": [
    "agent = ActorCritic(input_dims = (15,6), \n",
    "                    allias_state = 5, \n",
    "                    enemy_state = 5, \n",
    "                    n_actions = 2, \n",
    "                    max_actions = 0, \n",
    "                    lr = 0.002,\n",
    "                    cuda = 'cuda:0',\n",
    "                    gamma = 0.95)"
   ]
  },
  {
   "cell_type": "code",
   "execution_count": null,
   "id": "c24782d7-8cc5-4fd9-b149-075aafbfa56c",
   "metadata": {},
   "outputs": [],
   "source": [
    "scores = []\n",
    "n_steps = 5000\n",
    "T_MAX = 20"
   ]
  },
  {
   "cell_type": "code",
   "execution_count": null,
   "id": "f8291693-d031-4fa6-9d56-30f6b9a5d85d",
   "metadata": {
    "tags": []
   },
   "outputs": [],
   "source": [
    "for i in range(n_steps):\n",
    "    observation = env.reset()\n",
    "    \n",
    "    done = False\n",
    "    ep_steps = 0\n",
    "    r = 0\n",
    "    hx, cx = T.zeros(64).to(agent.actor.device), T.zeros(64).to(agent.actor.device)\n",
    "    \n",
    "    while not done:\n",
    "\n",
    "        action, hx, cx = agent.choose_action(observation, hx, cx)\n",
    "        observation, reward, done, info = env.step(action)\n",
    "        agent.store_mem(reward)\n",
    "        \n",
    "        r += reward\n",
    "        ep_steps+=1\n",
    "        \n",
    "        if ep_steps % T_MAX == 0 or done:\n",
    "            hx, cx = hx.detach(), cx.detach()\n",
    "            loss = agent.learn(observation, done)\n",
    "            \n",
    "    scores.append(r)\n",
    "    \n",
    "    avg_score = np.mean(scores[-100:])\n",
    "    \n",
    "    if not bool(i%10):clear_output()\n",
    "    print(i,r, avg_score)"
   ]
  },
  {
   "cell_type": "code",
   "execution_count": null,
   "id": "34751e3a-0fd8-4776-9f9b-5e28dcf50eb2",
   "metadata": {},
   "outputs": [],
   "source": [
    "import matplotlib.pyplot as plt\n",
    "def plot_learning_curve(scores, x, figure_file):\n",
    "    # loss_avg = np.zeros(len(scores))\n",
    "    running_avg = np.zeros(len(scores))\n",
    "    for i in range(len(running_avg)):\n",
    "        running_avg[i] = np.mean(scores[max(0, i-100):(i+1)])\n",
    "        # loss_avg[i] = np.mean(loss[max(0, i-100):(i+1)])\n",
    "    plt.plot(x, running_avg)\n",
    "    # plt.plot(x, loss_avg)\n",
    "    plt.title('Average of previos 100 games')\n",
    "    plt.savefig(figure_file)"
   ]
  },
  {
   "cell_type": "code",
   "execution_count": null,
   "id": "24cbed50-a819-4f19-a94f-3b95d86db009",
   "metadata": {},
   "outputs": [],
   "source": [
    "steps_list = [z for z in range(n_steps)]\n",
    "\n",
    "plot_learning_curve(scores, steps_list, 'A3C_pong_final.png')"
   ]
  },
  {
   "cell_type": "code",
   "execution_count": null,
   "id": "5471b7a8-2c19-4872-921e-dffeba385c3d",
   "metadata": {},
   "outputs": [],
   "source": [
    "from enviroment_class import CustomEnv\n",
    "\n",
    "env = CustomEnv(obstacle_turn = True,\n",
    "                vizualaze     = False,\n",
    "                Total_war     = True,\n",
    "                inp_dim       = 500,\n",
    "                head_velocity = 0.005,#0.005\n",
    "                num_obs       = 5,\n",
    "                num_enemy     = 1,\n",
    "                size_obs      = [50, 60],\n",
    "                rew_col       = -70,\n",
    "                rew_win       = 100,\n",
    "                rew_defeat    = -100,\n",
    "                steps_limit   = 1000,\n",
    "                EnemyLidSet   = [45,90],\n",
    "                AllyLidSet    = [40, 90])\n",
    "# _ = env.reset()\n",
    "env.get_statistic( model = agent, num_games = 1000)"
   ]
  },
  {
   "cell_type": "code",
   "execution_count": null,
   "id": "37856cc1-435c-49a4-8c63-f3e6ca9b2bea",
   "metadata": {},
   "outputs": [],
   "source": []
  },
  {
   "cell_type": "code",
   "execution_count": null,
   "id": "fd9fe445-3929-43b2-8ea8-8f9c80a7f0ba",
   "metadata": {},
   "outputs": [],
   "source": []
  },
  {
   "cell_type": "code",
   "execution_count": null,
   "id": "e1f15d6d-30a3-4d78-8a04-7a3c447cd13d",
   "metadata": {},
   "outputs": [],
   "source": []
  },
  {
   "cell_type": "code",
   "execution_count": null,
   "id": "aadaa3a8-ce98-41b2-9ba4-0704d1932604",
   "metadata": {},
   "outputs": [],
   "source": []
  },
  {
   "cell_type": "code",
   "execution_count": null,
   "id": "e86b705b-7d29-4399-a935-10b62ea9aff4",
   "metadata": {},
   "outputs": [],
   "source": []
  },
  {
   "cell_type": "code",
   "execution_count": null,
   "id": "687a98f6-662a-47dc-b64f-cff200c2d25a",
   "metadata": {},
   "outputs": [],
   "source": []
  }
 ],
 "metadata": {
  "kernelspec": {
   "display_name": "Python 3 (ipykernel)",
   "language": "python",
   "name": "python3"
  },
  "language_info": {
   "codemirror_mode": {
    "name": "ipython",
    "version": 3
   },
   "file_extension": ".py",
   "mimetype": "text/x-python",
   "name": "python",
   "nbconvert_exporter": "python",
   "pygments_lexer": "ipython3",
   "version": "3.10.6"
  }
 },
 "nbformat": 4,
 "nbformat_minor": 5
}
