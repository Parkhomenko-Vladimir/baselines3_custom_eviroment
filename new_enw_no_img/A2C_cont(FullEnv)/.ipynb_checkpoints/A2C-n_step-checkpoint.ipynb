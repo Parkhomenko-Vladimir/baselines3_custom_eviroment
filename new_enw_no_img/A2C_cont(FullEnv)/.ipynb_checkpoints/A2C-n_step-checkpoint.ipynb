{
 "cells": [
  {
   "cell_type": "code",
   "execution_count": 1,
   "id": "84d3d49e-5464-4726-8c3e-e84c5b357047",
   "metadata": {},
   "outputs": [],
   "source": [
    "import torch as T\n",
    "import numpy as np\n",
    "import gym\n",
    "\n",
    "from IPython.display import clear_output\n",
    "from actor_critic import ActorCritic"
   ]
  },
  {
   "cell_type": "code",
   "execution_count": 2,
   "id": "c5febadd-2d13-49b4-8c19-64cae8f22769",
   "metadata": {},
   "outputs": [
    {
     "name": "stdout",
     "output_type": "stream",
     "text": [
      "pygame 2.1.0 (SDL 2.0.16, Python 3.10.4)\n",
      "Hello from the pygame community. https://www.pygame.org/contribute.html\n"
     ]
    },
    {
     "name": "stderr",
     "output_type": "stream",
     "text": [
      "/home/parkhomenko/PycharmProjects/RL/venv/lib/python3.10/site-packages/gym/spaces/box.py:73: UserWarning: \u001b[33mWARN: Box bound precision lowered by casting to float16\u001b[0m\n",
      "  logger.warn(\n",
      "/home/parkhomenko/PycharmProjects/RL/venv/lib/python3.10/site-packages/gym/spaces/box.py:73: UserWarning: \u001b[33mWARN: Box bound precision lowered by casting to float32\u001b[0m\n",
      "  logger.warn(\n"
     ]
    }
   ],
   "source": [
    "from enviroment_class import CustomEnv\n",
    "\n",
    "env = CustomEnv(obstacle_turn = False,\n",
    "                vizualaze     = True,\n",
    "                Total_war     = True,\n",
    "                inp_dim       = 500,\n",
    "                head_velocity = 0.0,#0.005\n",
    "                num_obs       = 5,\n",
    "                num_enemy     = 1,\n",
    "                size_obs      = [50, 60],\n",
    "                rew_col       = -70,\n",
    "                rew_win       = 100,\n",
    "                rew_defeat    = -100,\n",
    "                steps_limit   = 1000,\n",
    "                EnemyLidSet   = [45,90],\n",
    "                AllyLidSet    = [40, 90])\n",
    "_ = env.reset()"
   ]
  },
  {
   "cell_type": "code",
   "execution_count": 3,
   "id": "a6053d1b-ab29-4435-8768-d6d5c0886e17",
   "metadata": {},
   "outputs": [],
   "source": [
    "state, rew, done, info = env.step(env.action_space.sample())"
   ]
  },
  {
   "cell_type": "code",
   "execution_count": 4,
   "id": "c2f3e48b-dd00-48f8-863f-66dba8ad3038",
   "metadata": {},
   "outputs": [],
   "source": [
    "agent = ActorCritic(input_conv_dims = (3,500,500), \n",
    "                    allias_state = 3, \n",
    "                    enemy_state = 3 , \n",
    "                    n_actions = 2, \n",
    "                    max_actions=0, \n",
    "                    lr = 0.002 , \n",
    "                    gamma = 0.95)"
   ]
  },
  {
   "cell_type": "code",
   "execution_count": 5,
   "id": "c24782d7-8cc5-4fd9-b149-075aafbfa56c",
   "metadata": {},
   "outputs": [],
   "source": [
    "best_score = env.reward_range[0]\n",
    "\n",
    "scores = []\n",
    "n_steps = 2000\n",
    "T_MAX = 20"
   ]
  },
  {
   "cell_type": "code",
   "execution_count": null,
   "id": "f8291693-d031-4fa6-9d56-30f6b9a5d85d",
   "metadata": {
    "tags": []
   },
   "outputs": [
    {
     "name": "stdout",
     "output_type": "stream",
     "text": [
      "0 -199.9613205180774 -199.9613205180774\n",
      "1 -88.75596831015068 -144.35864441411405\n",
      "2 -88.32949995953841 -125.6822629292555\n",
      "3 -105.47265170202782 -120.62986012244858\n",
      "4 -84.96294247903354 -113.49647659376558\n",
      "5 -314.4525158304076 -146.9891497998726\n",
      "6 -80.26970847575483 -137.45780103928433\n",
      "7 -160.31766322924543 -140.31528381302945\n",
      "8 -327.40593263792294 -161.10313368246204\n",
      "9 -84.76551776437947 -153.4693720906538\n"
     ]
    }
   ],
   "source": [
    "\n",
    "for i in range(n_steps):\n",
    "    observation = env.reset()\n",
    "    \n",
    "    done = False\n",
    "    ep_steps = 0\n",
    "    r = 0\n",
    "\n",
    "    while not done:\n",
    "\n",
    "        action = agent.choose_action(observation)\n",
    "        # clear_output()\n",
    "        # print(action)\n",
    "        observation, reward, done, info = env.step(action)\n",
    "        agent.store_mem(reward)\n",
    "        \n",
    "        r += reward\n",
    "        ep_steps+=1\n",
    "        \n",
    "        if ep_steps % T_MAX == 0 or done:\n",
    "            loss = agent.learn(observation, done)\n",
    "            \n",
    "    scores.append(r)\n",
    "    \n",
    "    avg_score = np.mean(scores[-100:])\n",
    "    \n",
    "    if avg_score > best_score:\n",
    "        best_score = avg_score\n",
    "        agent.save_models()\n",
    "    \n",
    "    if not bool(i%10):clear_output()\n",
    "    print(i,r, avg_score)"
   ]
  },
  {
   "cell_type": "code",
   "execution_count": null,
   "id": "839c641d-f052-43a2-8de8-6fa139dface0",
   "metadata": {},
   "outputs": [],
   "source": [
    "# numpy.clip(a, a_min = 0.001, a_max = 1.)"
   ]
  },
  {
   "cell_type": "code",
   "execution_count": null,
   "id": "34751e3a-0fd8-4776-9f9b-5e28dcf50eb2",
   "metadata": {},
   "outputs": [],
   "source": []
  },
  {
   "cell_type": "code",
   "execution_count": null,
   "id": "24cbed50-a819-4f19-a94f-3b95d86db009",
   "metadata": {},
   "outputs": [],
   "source": []
  },
  {
   "cell_type": "code",
   "execution_count": null,
   "id": "5471b7a8-2c19-4872-921e-dffeba385c3d",
   "metadata": {},
   "outputs": [],
   "source": []
  },
  {
   "cell_type": "code",
   "execution_count": null,
   "id": "7becbc10-d91e-4fa3-88cd-e11eb49b2f6f",
   "metadata": {},
   "outputs": [],
   "source": []
  },
  {
   "cell_type": "code",
   "execution_count": null,
   "id": "c0b53ab5-8f6c-490b-9a2e-f3b2854f1f0e",
   "metadata": {},
   "outputs": [],
   "source": []
  },
  {
   "cell_type": "code",
   "execution_count": null,
   "id": "aff0d5a9-c910-4b04-b7e2-eecfe1b0a22a",
   "metadata": {},
   "outputs": [],
   "source": []
  },
  {
   "cell_type": "code",
   "execution_count": null,
   "id": "37856cc1-435c-49a4-8c63-f3e6ca9b2bea",
   "metadata": {},
   "outputs": [],
   "source": []
  },
  {
   "cell_type": "code",
   "execution_count": null,
   "id": "fd9fe445-3929-43b2-8ea8-8f9c80a7f0ba",
   "metadata": {},
   "outputs": [],
   "source": []
  },
  {
   "cell_type": "code",
   "execution_count": null,
   "id": "e1f15d6d-30a3-4d78-8a04-7a3c447cd13d",
   "metadata": {},
   "outputs": [],
   "source": []
  },
  {
   "cell_type": "code",
   "execution_count": null,
   "id": "aadaa3a8-ce98-41b2-9ba4-0704d1932604",
   "metadata": {},
   "outputs": [],
   "source": []
  },
  {
   "cell_type": "code",
   "execution_count": null,
   "id": "e86b705b-7d29-4399-a935-10b62ea9aff4",
   "metadata": {},
   "outputs": [],
   "source": []
  },
  {
   "cell_type": "code",
   "execution_count": null,
   "id": "687a98f6-662a-47dc-b64f-cff200c2d25a",
   "metadata": {},
   "outputs": [],
   "source": []
  }
 ],
 "metadata": {
  "kernelspec": {
   "display_name": "Python 3 (ipykernel)",
   "language": "python",
   "name": "python3"
  },
  "language_info": {
   "codemirror_mode": {
    "name": "ipython",
    "version": 3
   },
   "file_extension": ".py",
   "mimetype": "text/x-python",
   "name": "python",
   "nbconvert_exporter": "python",
   "pygments_lexer": "ipython3",
   "version": "3.10.4"
  }
 },
 "nbformat": 4,
 "nbformat_minor": 5
}
