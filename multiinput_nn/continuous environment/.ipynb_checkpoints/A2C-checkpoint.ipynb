{
 "cells": [
  {
   "cell_type": "code",
   "execution_count": 1,
   "metadata": {},
   "outputs": [
    {
     "name": "stdout",
     "output_type": "stream",
     "text": [
      "pygame 2.0.1 (SDL 2.0.14, Python 3.8.10)\n",
      "Hello from the pygame community. https://www.pygame.org/contribute.html\n"
     ]
    }
   ],
   "source": [
    "import os\n",
    "import gym\n",
    "import numpy as np\n",
    "import matplotlib.pyplot as plt\n",
    "\n",
    "from stable_baselines3.common import results_plotter\n",
    "from stable_baselines3.common.monitor import Monitor\n",
    "from stable_baselines3.common.results_plotter import load_results, ts2xy, plot_results\n",
    "from stable_baselines3.common.noise import NormalActionNoise\n",
    "from stable_baselines3.common.callbacks import BaseCallback\n",
    "\n",
    "from gym_environment import CustomEnv\n",
    "from network import CustomCNN\n",
    "\n",
    "from stable_baselines3.common.torch_layers import BaseFeaturesExtractor\n",
    "import torch.nn as nn\n",
    "import torch.nn.functional as F\n",
    "import torch\n",
    "from stable_baselines3 import A2C\n",
    "\n",
    "torch.backends.cudnn.benchmark = True"
   ]
  },
  {
   "cell_type": "markdown",
   "metadata": {},
   "source": [
    "# Collab callback class"
   ]
  },
  {
   "cell_type": "code",
   "execution_count": 2,
   "metadata": {},
   "outputs": [],
   "source": [
    "class SaveOnBestTrainingRewardCallback(BaseCallback):\n",
    "    \"\"\"\n",
    "    Callback for saving a model (the check is done every ``check_freq`` steps)\n",
    "    based on the training reward (in practice, we recommend using ``EvalCallback``).\n",
    "\n",
    "    :param check_freq: (int)\n",
    "    :param log_dir: (str) Path to the folder where the model will be saved.\n",
    "      It must contains the file created by the ``Monitor`` wrapper.\n",
    "    :param verbose: (int)\n",
    "    \"\"\"\n",
    "    def __init__(self, check_freq: int, log_dir: str, verbose=1):\n",
    "        super(SaveOnBestTrainingRewardCallback, self).__init__(verbose)\n",
    "        self.check_freq = check_freq\n",
    "        self.log_dir = log_dir\n",
    "        self.save_path = os.path.join(log_dir, 'best_model_A2C')\n",
    "        self.best_mean_reward = -np.inf\n",
    "\n",
    "    def _init_callback(self) -> None:\n",
    "        pass\n",
    "        # Create folder if needed\n",
    "#         if self.save_path is not None:\n",
    "#             os.makedirs(self.save_path, exist_ok=True)\n",
    "\n",
    "    def _on_step(self) -> bool:\n",
    "        if self.n_calls % self.check_freq == 0:\n",
    "\n",
    "          # Retrieve training reward\n",
    "          x, y = ts2xy(load_results(self.log_dir), 'timesteps')\n",
    "          if len(x) > 0:\n",
    "              # Mean training reward over the last 100 episodes\n",
    "              mean_reward = np.mean(y[-100:])\n",
    "              if self.verbose > 0:\n",
    "                print(\"Num timesteps: {}\".format(self.num_timesteps))\n",
    "                print(\"Best mean reward: {:.2f} - Last mean reward per episode: {:.2f}\".format(self.best_mean_reward, mean_reward))\n",
    "\n",
    "              # New best model, you could save the agent here\n",
    "              if mean_reward > self.best_mean_reward:\n",
    "                  self.best_mean_reward = mean_reward\n",
    "                  # Example for saving best model\n",
    "                  if self.verbose > 0:\n",
    "                    print(\"Saving new best model to {}\".format(self.save_path))\n",
    "                  self.model.save(self.save_path)\n",
    "\n",
    "        return True\n"
   ]
  },
  {
   "cell_type": "markdown",
   "metadata": {},
   "source": [
    "# Init logs, model, environment"
   ]
  },
  {
   "cell_type": "code",
   "execution_count": 3,
   "metadata": {},
   "outputs": [
    {
     "name": "stderr",
     "output_type": "stream",
     "text": [
      "/home/tatiana/environments/tatenv/lib/python3.8/site-packages/gym/logger.py:30: UserWarning: \u001b[33mWARN: Box bound precision lowered by casting to float16\u001b[0m\n",
      "  warnings.warn(colorize('%s: %s'%('WARN', msg % args), 'yellow'))\n",
      "/home/tatiana/environments/tatenv/lib/python3.8/site-packages/gym/logger.py:30: UserWarning: \u001b[33mWARN: Box bound precision lowered by casting to float32\u001b[0m\n",
      "  warnings.warn(colorize('%s: %s'%('WARN', msg % args), 'yellow'))\n"
     ]
    }
   ],
   "source": [
    "log_dir = './saved_models_cont_mult/A2C/'\n",
    "\n",
    "callback = SaveOnBestTrainingRewardCallback(check_freq=1000, log_dir=log_dir)\n",
    "\n",
    "env = CustomEnv(obstacle_turn = False, \n",
    "                vizualaze     = False, \n",
    "                Total_war     = True)\n",
    "\n",
    "env = Monitor(env, log_dir)\n",
    "\n",
    "policy_kwargs = dict(\n",
    "    features_extractor_class=CustomCNN,\n",
    "    features_extractor_kwargs=dict(features_dim=518),\n",
    "    activation_fn=torch.nn.ReLU,\n",
    "    net_arch = [dict(pi=[1029, 128, 32, 8], vf=[1029, 128, 32, 8])])\n",
    "\n",
    "model = A2C(policy          = 'MlpPolicy',\n",
    "            env             = env,\n",
    "            learning_rate   = 0.0001,\n",
    "            n_steps         = 2,\n",
    "            gamma           = 0.99,\n",
    "            gae_lambda      = 0.95,\n",
    "            tensorboard_log = \"./tensorboard_logs_cont_mult/\",\n",
    "            policy_kwargs   = policy_kwargs,\n",
    "            verbose         = 0,\n",
    "            device          = 'cuda',\n",
    "            use_sde         = True)"
   ]
  },
  {
   "cell_type": "markdown",
   "metadata": {},
   "source": [
    "# Run learning"
   ]
  },
  {
   "cell_type": "code",
   "execution_count": null,
   "metadata": {
    "tags": []
   },
   "outputs": [
    {
     "name": "stderr",
     "output_type": "stream",
     "text": [
      "/home/tatiana/environments/tatenv/lib/python3.8/site-packages/torch/nn/functional.py:718: UserWarning: Named tensors and all their associated APIs are an experimental feature and subject to change. Please do not use them for anything important until they are released as stable. (Triggered internally at  /pytorch/c10/core/TensorImpl.h:1156.)\n",
      "  return torch.max_pool2d(input, kernel_size, stride, padding, dilation, ceil_mode)\n",
      "/home/tatiana/environments/tatenv/lib/python3.8/site-packages/torch/nn/modules/conv.py:439: UserWarning: Using padding='same' with even kernel lengths and odd dilation may require a zero-padded copy of the input be created (Triggered internally at  /pytorch/aten/src/ATen/native/Convolution.cpp:660.)\n",
      "  return F.conv2d(input, weight, bias, self.stride,\n"
     ]
    },
    {
     "name": "stdout",
     "output_type": "stream",
     "text": [
      "Num timesteps: 1000\n",
      "Best mean reward: -inf - Last mean reward per episode: -74.44\n",
      "Saving new best model to ./saved_models_cont_mult/A2C/best_model_A2C\n",
      "Num timesteps: 2000\n",
      "Best mean reward: -74.44 - Last mean reward per episode: -85.95\n",
      "Num timesteps: 3000\n",
      "Best mean reward: -74.44 - Last mean reward per episode: -55.86\n",
      "Saving new best model to ./saved_models_cont_mult/A2C/best_model_A2C\n",
      "Num timesteps: 4000\n",
      "Best mean reward: -55.86 - Last mean reward per episode: -118.29\n",
      "Num timesteps: 5000\n",
      "Best mean reward: -55.86 - Last mean reward per episode: -118.73\n",
      "Num timesteps: 6000\n",
      "Best mean reward: -55.86 - Last mean reward per episode: -73.97\n",
      "Num timesteps: 7000\n",
      "Best mean reward: -55.86 - Last mean reward per episode: -52.08\n",
      "Saving new best model to ./saved_models_cont_mult/A2C/best_model_A2C\n",
      "Num timesteps: 8000\n",
      "Best mean reward: -52.08 - Last mean reward per episode: -36.14\n",
      "Saving new best model to ./saved_models_cont_mult/A2C/best_model_A2C\n",
      "Num timesteps: 9000\n",
      "Best mean reward: -36.14 - Last mean reward per episode: -60.09\n",
      "Num timesteps: 10000\n",
      "Best mean reward: -36.14 - Last mean reward per episode: -32.40\n",
      "Saving new best model to ./saved_models_cont_mult/A2C/best_model_A2C\n",
      "Num timesteps: 11000\n",
      "Best mean reward: -32.40 - Last mean reward per episode: -46.80\n",
      "Num timesteps: 12000\n",
      "Best mean reward: -32.40 - Last mean reward per episode: -80.31\n",
      "Num timesteps: 13000\n",
      "Best mean reward: -32.40 - Last mean reward per episode: -111.05\n",
      "Num timesteps: 14000\n",
      "Best mean reward: -32.40 - Last mean reward per episode: -122.42\n",
      "Num timesteps: 15000\n",
      "Best mean reward: -32.40 - Last mean reward per episode: -130.93\n",
      "Num timesteps: 16000\n",
      "Best mean reward: -32.40 - Last mean reward per episode: -135.03\n",
      "Num timesteps: 17000\n",
      "Best mean reward: -32.40 - Last mean reward per episode: -123.97\n",
      "Num timesteps: 18000\n",
      "Best mean reward: -32.40 - Last mean reward per episode: -120.00\n",
      "Num timesteps: 19000\n",
      "Best mean reward: -32.40 - Last mean reward per episode: -125.06\n",
      "Num timesteps: 20000\n",
      "Best mean reward: -32.40 - Last mean reward per episode: -134.98\n",
      "Num timesteps: 21000\n",
      "Best mean reward: -32.40 - Last mean reward per episode: -115.38\n",
      "Num timesteps: 22000\n",
      "Best mean reward: -32.40 - Last mean reward per episode: -113.87\n",
      "Num timesteps: 23000\n",
      "Best mean reward: -32.40 - Last mean reward per episode: -111.14\n"
     ]
    }
   ],
   "source": [
    "model.learn(total_timesteps=1e6,callback=callback)"
   ]
  },
  {
   "cell_type": "markdown",
   "metadata": {},
   "source": [
    "# Record the video"
   ]
  },
  {
   "cell_type": "code",
   "execution_count": null,
   "metadata": {
    "tags": []
   },
   "outputs": [],
   "source": [
    "# env.render(model,1)"
   ]
  },
  {
   "cell_type": "markdown",
   "metadata": {},
   "source": [
    "# Check tensorboard"
   ]
  },
  {
   "cell_type": "code",
   "execution_count": null,
   "metadata": {},
   "outputs": [],
   "source": [
    "!tensorboard --logdir ./tensorboard_logs_cont_mult/"
   ]
  },
  {
   "cell_type": "markdown",
   "metadata": {},
   "source": [
    "# Load and check the model"
   ]
  },
  {
   "cell_type": "code",
   "execution_count": null,
   "metadata": {},
   "outputs": [],
   "source": [
    "log_dir = './saved_models_cont_mult/A2C/'\n",
    "env = CustomEnv(obstacle_turn=False, Total_war=False)"
   ]
  },
  {
   "cell_type": "code",
   "execution_count": null,
   "metadata": {},
   "outputs": [],
   "source": [
    "model = A2C.load(path=log_dir + 'best_model_with_sde_2steps', env=env)"
   ]
  },
  {
   "cell_type": "code",
   "execution_count": null,
   "metadata": {},
   "outputs": [],
   "source": [
    "state = env.reset()\n",
    "action = model.predict(state)\n",
    "print(action[0][0])"
   ]
  },
  {
   "cell_type": "code",
   "execution_count": null,
   "metadata": {},
   "outputs": [],
   "source": [
    "velosities = []\n",
    "state = env.reset()\n",
    "action = model.predict(state)\n",
    "for i in range(0, 100):\n",
    "    state, reward, done, numstep = env.step(action[0])\n",
    "    action = model.predict(state)\n",
    "    velosities.append(action[0][0])\n",
    "print(max(velosities), min(velosities))"
   ]
  }
 ],
 "metadata": {
  "kernelspec": {
   "display_name": "Python 3 (ipykernel)",
   "language": "python",
   "name": "python3"
  },
  "language_info": {
   "codemirror_mode": {
    "name": "ipython",
    "version": 3
   },
   "file_extension": ".py",
   "mimetype": "text/x-python",
   "name": "python",
   "nbconvert_exporter": "python",
   "pygments_lexer": "ipython3",
   "version": "3.8.10"
  }
 },
 "nbformat": 4,
 "nbformat_minor": 4
}
