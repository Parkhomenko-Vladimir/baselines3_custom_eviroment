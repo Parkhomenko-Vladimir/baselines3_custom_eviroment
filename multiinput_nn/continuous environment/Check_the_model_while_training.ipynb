{
 "cells": [
  {
   "cell_type": "code",
   "execution_count": 1,
   "id": "6bbdcd9b-c70b-4a7a-b5a9-2aa31b559be2",
   "metadata": {},
   "outputs": [
    {
     "name": "stdout",
     "output_type": "stream",
     "text": [
      "pygame 2.0.1 (SDL 2.0.14, Python 3.8.10)\n",
      "Hello from the pygame community. https://www.pygame.org/contribute.html\n"
     ]
    }
   ],
   "source": [
    "import os\n",
    "import gym\n",
    "import numpy as np\n",
    "import matplotlib.pyplot as plt\n",
    "\n",
    "from stable_baselines3.common import results_plotter\n",
    "from stable_baselines3.common.monitor import Monitor\n",
    "from stable_baselines3.common.results_plotter import load_results, ts2xy, plot_results\n",
    "from stable_baselines3.common.noise import NormalActionNoise\n",
    "from stable_baselines3.common.callbacks import BaseCallback\n",
    "\n",
    "from gym_environment import CustomEnv\n",
    "from network import CustomCNN\n",
    "\n",
    "from stable_baselines3.common.torch_layers import BaseFeaturesExtractor\n",
    "import torch.nn as nn\n",
    "import torch.nn.functional as F\n",
    "import torch\n",
    "from stable_baselines3 import A2C\n",
    "\n",
    "torch.backends.cudnn.benchmark = True"
   ]
  },
  {
   "cell_type": "code",
   "execution_count": 2,
   "id": "91f9e849-236c-4712-a979-9ebb49a693ff",
   "metadata": {},
   "outputs": [
    {
     "name": "stderr",
     "output_type": "stream",
     "text": [
      "/home/tatiana/environments/tatenv/lib/python3.8/site-packages/gym/logger.py:30: UserWarning: \u001b[33mWARN: Box bound precision lowered by casting to float16\u001b[0m\n",
      "  warnings.warn(colorize('%s: %s'%('WARN', msg % args), 'yellow'))\n",
      "/home/tatiana/environments/tatenv/lib/python3.8/site-packages/gym/logger.py:30: UserWarning: \u001b[33mWARN: Box bound precision lowered by casting to float32\u001b[0m\n",
      "  warnings.warn(colorize('%s: %s'%('WARN', msg % args), 'yellow'))\n"
     ]
    }
   ],
   "source": [
    "log_dir = './saved_models_cont_mult/A2C/'\n",
    "env = CustomEnv(obstacle_turn=False, Total_war=True)  # , vizualaze=True"
   ]
  },
  {
   "cell_type": "code",
   "execution_count": 3,
   "id": "2396f623-f055-40d5-bdb5-1e0fe7061494",
   "metadata": {},
   "outputs": [],
   "source": [
    "model = A2C.load(path=log_dir + 'best_model_A2Cwar6', env=env)"
   ]
  },
  {
   "cell_type": "code",
   "execution_count": 4,
   "id": "35733ae2-2f7b-4df2-a8e0-ee1068090cc4",
   "metadata": {},
   "outputs": [
    {
     "name": "stdout",
     "output_type": "stream",
     "text": [
      "70.0\n"
     ]
    },
    {
     "name": "stderr",
     "output_type": "stream",
     "text": [
      "/home/tatiana/environments/tatenv/lib/python3.8/site-packages/torch/nn/functional.py:718: UserWarning: Named tensors and all their associated APIs are an experimental feature and subject to change. Please do not use them for anything important until they are released as stable. (Triggered internally at  /pytorch/c10/core/TensorImpl.h:1156.)\n",
      "  return torch.max_pool2d(input, kernel_size, stride, padding, dilation, ceil_mode)\n",
      "/home/tatiana/environments/tatenv/lib/python3.8/site-packages/torch/nn/modules/conv.py:439: UserWarning: Using padding='same' with even kernel lengths and odd dilation may require a zero-padded copy of the input be created (Triggered internally at  /pytorch/aten/src/ATen/native/Convolution.cpp:660.)\n",
      "  return F.conv2d(input, weight, bias, self.stride,\n"
     ]
    }
   ],
   "source": [
    "state = env.reset()\n",
    "action = model.predict(state)\n",
    "print(action[0][0])"
   ]
  },
  {
   "cell_type": "code",
   "execution_count": 5,
   "id": "d729e50b-e2b3-4a08-8a25-c0f2ec6d2b13",
   "metadata": {},
   "outputs": [
    {
     "name": "stdout",
     "output_type": "stream",
     "text": [
      "-1.1920929e-07 -1.1920929e-07\n"
     ]
    }
   ],
   "source": [
    "velosities = []\n",
    "state = env.reset()\n",
    "action = model.predict(state)\n",
    "for i in range(0, 1000):\n",
    "    state, reward, done, numstep = env.step(action[0])\n",
    "    action = model.predict(state)\n",
    "    velosities.append(action[0][0])\n",
    "print(max(velosities), min(velosities))"
   ]
  },
  {
   "cell_type": "code",
   "execution_count": null,
   "id": "6d82c525-75d2-4d4f-a165-cdfe6bdb75a3",
   "metadata": {},
   "outputs": [],
   "source": []
  },
  {
   "cell_type": "code",
   "execution_count": null,
   "id": "96d1b00e-6111-4d8e-bf3c-f9b32044447d",
   "metadata": {},
   "outputs": [],
   "source": []
  }
 ],
 "metadata": {
  "kernelspec": {
   "display_name": "Python 3 (ipykernel)",
   "language": "python",
   "name": "python3"
  },
  "language_info": {
   "codemirror_mode": {
    "name": "ipython",
    "version": 3
   },
   "file_extension": ".py",
   "mimetype": "text/x-python",
   "name": "python",
   "nbconvert_exporter": "python",
   "pygments_lexer": "ipython3",
   "version": "3.8.10"
  }
 },
 "nbformat": 4,
 "nbformat_minor": 5
}
